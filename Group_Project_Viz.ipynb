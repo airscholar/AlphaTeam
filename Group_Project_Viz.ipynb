{
 "cells": [
  {
   "cell_type": "code",
   "execution_count": null,
   "id": "0b6cb05a",
   "metadata": {},
   "outputs": [],
   "source": [
    "import matplotlib.pyplot as plt\n",
    "import networkx as nx\n",
    "import pandas as pd"
   ]
  },
  {
   "cell_type": "code",
   "execution_count": null,
   "id": "a844ff94",
   "metadata": {},
   "outputs": [],
   "source": [
    "def static_visualisation(NetworkX_):\n",
    "    # return plotly figure\n",
    "    return 0"
   ]
  },
  {
   "cell_type": "code",
   "execution_count": null,
   "id": "3e899f22",
   "metadata": {},
   "outputs": [],
   "source": [
    "def dyn_visualisation(NetworkX_):\n",
    "#return html file\n",
    "    return 0"
   ]
  },
  {
   "cell_type": "code",
   "execution_count": null,
   "id": "b2c40d40",
   "metadata": {},
   "outputs": [],
   "source": [
    "def static_on_map(NetworkX_):\n",
    "    # create a network graph of the railway network\n",
    "    # create an empty graph\n",
    "    G = nx.Graph()\n",
    "\n",
    "    # add nodes to the graph\n",
    "    for stations in NetworkX_:\n",
    "        for station in NetworkX_[stations]:\n",
    "            # print(station)\n",
    "            # add note with the localisation for visualization\n",
    "            G.add_node(station['id'], pos=(station['lon'], station['lat']))\n",
    "\n",
    "    # add edges to the graph\n",
    "    for stations in NetworkX_:\n",
    "        for station in NetworkX_[stations]:\n",
    "            from_node = station['id']\n",
    "            to_node = None\n",
    "\n",
    "            if type(station['to']) is tuple:\n",
    "                # if the 'to' value is a tuple, create a new node\n",
    "                to_node = self.station_id[station['to']]\n",
    "                G.add_edge(from_node, to_node)\n",
    "            else:\n",
    "                # # if the 'to' value is an existing node, add an edge\n",
    "                # to_node = station['to']\n",
    "                # G.add_edge(from_node, to_node)\n",
    "                continue\n",
    "\n",
    "    # add the graph to the class\n",
    "    self.G = G\n",
    "    \n",
    "    # return plotly figure\n",
    "    return 0"
   ]
  },
  {
   "cell_type": "code",
   "execution_count": null,
   "id": "cb8c6566",
   "metadata": {},
   "outputs": [],
   "source": [
    "def plot_shortest_distance(NetworkX_, path_):\n",
    "# return plotly figure\n",
    "    return 0"
   ]
  },
  {
   "cell_type": "code",
   "execution_count": null,
   "id": "35e29ff2",
   "metadata": {},
   "outputs": [],
   "source": [
    "def plot_metrics(NetworkX_, dataFrame_, title_):\n",
    "# return plotly figure\n",
    "    return 0"
   ]
  },
  {
   "cell_type": "code",
   "execution_count": null,
   "id": "cf48dc72",
   "metadata": {},
   "outputs": [],
   "source": [
    "def plot_metrics_on_map(NetworkX_, dataFrame_, title_):\n",
    "# return plotly figure\n",
    "    return 0"
   ]
  },
  {
   "cell_type": "code",
   "execution_count": null,
   "id": "8ae19a07",
   "metadata": {},
   "outputs": [],
   "source": [
    "def plot_histogram(NetworkX_, dataFrame_, title_):\n",
    "    \n",
    "    # Get the values from the dataframe and convert to a list\n",
    "    values = dataFrame_.values.tolist()\n",
    "\n",
    "    # Create a figure and set the size\n",
    "    plt.figure(figsize=(8, 8))\n",
    "\n",
    "    # Plot the histogram using Matplotlib's hist function\n",
    "    plt.hist(values, bins=10, alpha=0.5)\n",
    "\n",
    "    # Set the title and axis labels\n",
    "    plt.title(title_)\n",
    "    plt.xlabel('Values')\n",
    "    plt.ylabel('Frequency')\n",
    "\n",
    "    # Show the plot\n",
    "    plt.show()\n",
    "    \n",
    "    # return plotly figure\n",
    "    return 0"
   ]
  }
 ],
 "metadata": {
  "kernelspec": {
   "display_name": "Python 3",
   "language": "python",
   "name": "python3"
  },
  "language_info": {
   "codemirror_mode": {
    "name": "ipython",
    "version": 3
   },
   "file_extension": ".py",
   "mimetype": "text/x-python",
   "name": "python",
   "nbconvert_exporter": "python",
   "pygments_lexer": "ipython3",
   "version": "3.9.11"
  }
 },
 "nbformat": 4,
 "nbformat_minor": 5
}
