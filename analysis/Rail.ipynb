{
 "cells": [
  {
   "cell_type": "code",
   "execution_count": 1,
   "outputs": [],
   "source": [
    "from src.preprocessing import *\n",
    "from src.metrics import *\n",
    "from src.visualisation import *\n",
    "from src.NetworkGraphs import *\n",
    "\n",
    "import networkx as nx\n",
    "from IPython.display import display"
   ],
   "metadata": {
    "collapsed": false
   }
  },
  {
   "cell_type": "code",
   "execution_count": null,
   "metadata": {
    "pycharm": {
     "is_executing": true
    }
   },
   "outputs": [],
   "source": [
    "networkGraphs = NetworkGraphs('../datasets/Railway.csv', type=\"RAILWAY\", spatial =True)"
   ]
  },
  {
   "cell_type": "markdown",
   "metadata": {},
   "source": [
    "# Graph Statistics"
   ]
  },
  {
   "cell_type": "code",
   "execution_count": null,
   "metadata": {},
   "outputs": [],
   "source": [
    "global_metrics = compute_global_metrics(networkGraphs)\n",
    "global_metrics"
   ]
  },
  {
   "cell_type": "code",
   "execution_count": null,
   "metadata": {},
   "outputs": [],
   "source": [
    "directed_node_metrics = compute_node_metrics(networkGraphs, directed=True)\n",
    "directed_node_metrics"
   ]
  },
  {
   "cell_type": "code",
   "execution_count": null,
   "metadata": {},
   "outputs": [],
   "source": [
    "undirected_node_metrics = compute_node_metrics(networkGraphs, directed=False)\n",
    "undirected_node_metrics"
   ]
  },
  {
   "cell_type": "markdown",
   "metadata": {},
   "source": [
    "# VISUALISATION"
   ]
  },
  {
   "cell_type": "code",
   "execution_count": null,
   "metadata": {},
   "outputs": [],
   "source": [
    "plt_directed = plot_static_on_map(networkGraphs, 'Railway Network Directed Graph', directed=True)\n",
    "plt_directed.show()"
   ]
  },
  {
   "cell_type": "code",
   "execution_count": null,
   "metadata": {},
   "outputs": [],
   "source": [
    "plt_undirected = plot_static_on_map(networkGraphs, 'Railway Network Undirected Graph', directed=False)\n",
    "plt_undirected.show()"
   ]
  },
  {
   "cell_type": "markdown",
   "metadata": {},
   "source": [
    "# Spatial and Temporal Analysis"
   ]
  },
  {
   "cell_type": "markdown",
   "metadata": {},
   "source": [
    "### Create frames of the graph\n",
    "May take very long to create all of the frame images for 2 Days, one frame is created every 5 minute. You may change the range to create less frames and a shorter video."
   ]
  },
  {
   "cell_type": "code",
   "execution_count": 3,
   "metadata": {},
   "outputs": [
    {
     "name": "stdout",
     "output_type": "stream",
     "text": [
      "Creating temporal graphs: 5031/5040 (99.82%)"
     ]
    }
   ],
   "source": [
    "temporal_graphs = create_temporal_subgraph(networkGraphs,0, (3*24+12)*60, 10)"
   ]
  },
  {
   "cell_type": "code",
   "execution_count": null,
   "metadata": {
    "pycharm": {
     "is_executing": true
    }
   },
   "outputs": [],
   "source": [
    "%matplotlib notebook\n",
    "slider, plt = plot_temporal_graphs(temporal_graphs)"
   ]
  },
  {
   "cell_type": "markdown",
   "metadata": {},
   "source": [
    "### Create a video of the graph with cv2 (OpenCV)"
   ]
  },
  {
   "cell_type": "code",
   "execution_count": null,
   "metadata": {},
   "outputs": [],
   "source": [
    "# import cv2\n",
    "# import os\n",
    "#\n",
    "# # Path to the folder containing the image frames\n",
    "# frames_folder = 'frames/'\n",
    "#\n",
    "# # Get the list of frame filenames in the folder\n",
    "# frame_filenames = os.listdir(frames_folder)\n",
    "#\n",
    "# # Sort the filenames in ascending order\n",
    "# frame_filenames.sort(key=lambda x: int(x[:-4]))\n",
    "#\n",
    "# # Read the first frame to get its dimensions\n",
    "# frame = cv2.imread(frames_folder + frame_filenames[0])\n",
    "# height, width, layers = frame.shape\n",
    "#\n",
    "# # Create a VideoWriter object to write the video\n",
    "# fourcc = cv2.VideoWriter_fourcc(*'mp4v')\n",
    "# video = cv2.VideoWriter('output.mp4', fourcc, 30, (width, height))\n",
    "#\n",
    "# # Loop through the frames and add them to the video\n",
    "# i=0\n",
    "# for filename in frame_filenames:\n",
    "#     frame = cv2.imread(frames_folder + filename)\n",
    "#     video.write(frame)\n",
    "#     print(f\"\\r{i/2764*100:.2f}%\", end=\"\")\n",
    "#     i+=1\n",
    "#\n",
    "# # Release the VideoWriter object and display a message\n",
    "# video.release()\n",
    "# print('\\nVideo saved as output.mp4')"
   ]
  },
  {
   "cell_type": "markdown",
   "metadata": {},
   "source": [
    "# SHORTEST PATH ANALYSIS"
   ]
  },
  {
   "cell_type": "code",
   "execution_count": null,
   "metadata": {},
   "outputs": [],
   "source": [
    "get_shortest_path(networkGraphs, source=1136, target=1095, directed=False)"
   ]
  }
 ],
 "metadata": {
  "kernelspec": {
   "display_name": "Python 3 (ipykernel)",
   "language": "python",
   "name": "python3"
  },
  "language_info": {
   "codemirror_mode": {
    "name": "ipython",
    "version": 3
   },
   "file_extension": ".py",
   "mimetype": "text/x-python",
   "name": "python",
   "nbconvert_exporter": "python",
   "pygments_lexer": "ipython3",
   "version": "3.11.2"
  }
 },
 "nbformat": 4,
 "nbformat_minor": 1
}
