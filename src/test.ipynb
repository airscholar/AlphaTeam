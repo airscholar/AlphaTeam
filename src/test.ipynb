{
 "cells": [
  {
   "cell_type": "markdown",
   "metadata": {},
   "source": [
    "# Use to test our function by calling them from the main function"
   ]
  },
  {
   "cell_type": "code",
   "execution_count": 1,
   "outputs": [],
   "source": [
    "from src.deepLearning import *\n",
    "from src.visualisation_src.DL_visualisation import *\n",
    "from src.NetworkGraphs import *\n",
    "from NetworkGraphs import *\n",
    "from src.visualisation import *"
   ],
   "metadata": {
    "collapsed": false,
    "ExecuteTime": {
     "start_time": "2023-04-06T14:41:01.805474Z",
     "end_time": "2023-04-06T14:41:06.065297Z"
    }
   }
  },
  {
   "cell_type": "code",
   "execution_count": 2,
   "outputs": [
    {
     "name": "stdout",
     "output_type": "stream",
     "text": [
      "Excluded 0 stations\n",
      "twopi\n",
      "sfdp\n"
     ]
    }
   ],
   "source": [
    "networkGraph = NetworkGraphs('../datasets/Railway.csv', type=\"RAILWAY\")"
   ],
   "metadata": {
    "collapsed": false,
    "ExecuteTime": {
     "start_time": "2023-04-06T14:41:06.065971Z",
     "end_time": "2023-04-06T14:41:09.755578Z"
    }
   }
  },
  {
   "cell_type": "code",
   "execution_count": 3,
   "outputs": [
    {
     "data": {
      "text/plain": "Computing transition probabilities:   0%|          | 0/2719 [00:00<?, ?it/s]",
      "application/vnd.jupyter.widget-view+json": {
       "version_major": 2,
       "version_minor": 0,
       "model_id": "965664287d1b4f51a13af869f95dcd32"
      }
     },
     "metadata": {},
     "output_type": "display_data"
    },
    {
     "name": "stderr",
     "output_type": "stream",
     "text": [
      "Generating walks (CPU: 3): 100%|██████████| 2/2 [00:02<00:00,  1.26s/it]\n",
      "Generating walks (CPU: 4): 100%|██████████| 2/2 [00:02<00:00,  1.20s/it]\n",
      "Generating walks (CPU: 1): 100%|██████████| 3/3 [00:03<00:00,  1.27s/it]\n",
      "Generating walks (CPU: 2): 100%|██████████| 3/3 [00:03<00:00,  1.20s/it]\n"
     ]
    },
    {
     "data": {
      "text/plain": "array([[1.        , 0.91081977, 0.86152649, ..., 0.29096496, 0.27961501,\n        0.25750402],\n       [0.91081977, 1.        , 0.95383376, ..., 0.34708524, 0.34455299,\n        0.32448739],\n       [0.86152649, 0.95383376, 0.99999994, ..., 0.29570296, 0.29155698,\n        0.27195156],\n       ...,\n       [0.29096496, 0.34708524, 0.29570296, ..., 1.        , 0.9949429 ,\n        0.9914372 ],\n       [0.27961501, 0.34455299, 0.29155698, ..., 0.9949429 , 1.        ,\n        0.9977535 ],\n       [0.25750402, 0.32448739, 0.27195156, ..., 0.9914372 , 0.9977535 ,\n        1.        ]])"
     },
     "execution_count": 3,
     "metadata": {},
     "output_type": "execute_result"
    }
   ],
   "source": [
    "model, emb = node2vec_embedding(networkGraph,p=1,q=1)\n",
    "similarity_matrix(networkGraph, model)"
   ],
   "metadata": {
    "collapsed": false,
    "ExecuteTime": {
     "start_time": "2023-04-06T14:41:09.757298Z",
     "end_time": "2023-04-06T14:42:58.127886Z"
    }
   }
  },
  {
   "cell_type": "code",
   "execution_count": 4,
   "outputs": [
    {
     "data": {
      "text/plain": "Computing transition probabilities:   0%|          | 0/2719 [00:00<?, ?it/s]",
      "application/vnd.jupyter.widget-view+json": {
       "version_major": 2,
       "version_minor": 0,
       "model_id": "bffcf374989244088f6b20696ccfb845"
      }
     },
     "metadata": {},
     "output_type": "display_data"
    },
    {
     "name": "stderr",
     "output_type": "stream",
     "text": [
      "Generating walks (CPU: 3): 100%|██████████| 2/2 [00:02<00:00,  1.09s/it]\n",
      "Generating walks (CPU: 4): 100%|██████████| 2/2 [00:02<00:00,  1.06s/it]\n",
      "Generating walks (CPU: 1): 100%|██████████| 3/3 [00:03<00:00,  1.07s/it]\n",
      "Generating walks (CPU: 2): 100%|██████████| 3/3 [00:03<00:00,  1.09s/it]\n"
     ]
    },
    {
     "data": {
      "text/plain": "'None/node2vec.html'"
     },
     "execution_count": 4,
     "metadata": {},
     "output_type": "execute_result"
    }
   ],
   "source": [
    "plot_node2vec(networkGraph, p=1, q=1, fullPath=True, visualisation='TSNE')"
   ],
   "metadata": {
    "collapsed": false,
    "ExecuteTime": {
     "start_time": "2023-04-06T14:32:23.212467Z",
     "end_time": "2023-04-06T14:33:07.122970Z"
    }
   }
  },
  {
   "cell_type": "code",
   "execution_count": 11,
   "outputs": [
    {
     "data": {
      "text/plain": "Computing transition probabilities:   0%|          | 0/2719 [00:00<?, ?it/s]",
      "application/vnd.jupyter.widget-view+json": {
       "version_major": 2,
       "version_minor": 0,
       "model_id": "3b5a0bde76d2462c83f0aa689a536293"
      }
     },
     "metadata": {},
     "output_type": "display_data"
    },
    {
     "name": "stderr",
     "output_type": "stream",
     "text": [
      "Generating walks (CPU: 3): 100%|██████████| 2/2 [00:02<00:00,  1.23s/it]\n",
      "Generating walks (CPU: 4): 100%|██████████| 2/2 [00:02<00:00,  1.20s/it]\n",
      "Generating walks (CPU: 1): 100%|██████████| 3/3 [00:03<00:00,  1.08s/it]\n",
      "Generating walks (CPU: 2): 100%|██████████| 3/3 [00:03<00:00,  1.14s/it]\n"
     ]
    }
   ],
   "source": [
    "model, emb = node2vec_embedding(networkGraph,p=1,q=1)"
   ],
   "metadata": {
    "collapsed": false,
    "ExecuteTime": {
     "start_time": "2023-04-06T12:33:24.809085Z",
     "end_time": "2023-04-06T12:34:01.540997Z"
    }
   }
  },
  {
   "cell_type": "code",
   "execution_count": null,
   "outputs": [],
   "source": [
    "umap_visualisation(networkGraph, emb, 'nodeumap.html')\n",
    "TSNE_visualisation(networkGraph, emb, 'nodetsne.html')\n",
    "PCA_visualisation(networkGraph, emb, 'nodepca.html')"
   ],
   "metadata": {
    "collapsed": false,
    "ExecuteTime": {
     "start_time": "2023-04-06T12:34:29.750706Z",
     "end_time": "2023-04-06T12:34:58.059844Z"
    }
   }
  },
  {
   "cell_type": "code",
   "execution_count": 1,
   "outputs": [],
   "source": [
    "import geopandas as gpd\n",
    "import plotly.express as px\n",
    "from preprocessing import *\n",
    "from metrics import *\n",
    "from NetworkGraphs import *\n",
    "from machineLearning import *"
   ],
   "metadata": {
    "collapsed": false
   }
  },
  {
   "cell_type": "code",
   "execution_count": 2,
   "outputs": [
    {
     "name": "stdout",
     "output_type": "stream",
     "text": [
      "Excluded 0 stations\n",
      "done\n"
     ]
    }
   ],
   "source": [
    "# customGraphs = NetworkGraphs('../datasets/Railway.csv', type=\"RAILWAY\")\n",
    "# print('done')\n",
    "# metric = compute_node_metrics(customGraphs)"
   ],
   "metadata": {
    "collapsed": false
   }
  },
  {
   "cell_type": "code",
   "execution_count": 2,
   "outputs": [
    {
     "name": "stdout",
     "output_type": "stream",
     "text": [
      "twopi\n",
      "sfdp\n"
     ]
    },
    {
     "data": {
      "text/plain": "Computing transition probabilities:   0%|          | 0/380 [00:00<?, ?it/s]",
      "application/vnd.jupyter.widget-view+json": {
       "version_major": 2,
       "version_minor": 0,
       "model_id": "92bb2ee83c1248a2aebdde765a2c311d"
      }
     },
     "metadata": {},
     "output_type": "display_data"
    },
    {
     "name": "stderr",
     "output_type": "stream",
     "text": [
      "Generating walks (CPU: 4): 100%|██████████| 12/12 [00:00<00:00, 17.54it/s]\n",
      "Generating walks (CPU: 3): 100%|██████████| 12/12 [00:00<00:00, 17.25it/s]\n",
      "Generating walks (CPU: 1): 100%|██████████| 13/13 [00:00<00:00, 17.80it/s]\n",
      "Generating walks (CPU: 2): 100%|██████████| 13/13 [00:00<00:00, 17.59it/s]\n"
     ]
    },
    {
     "name": "stdout",
     "output_type": "stream",
     "text": [
      "Node2Vec generated "
     ]
    },
    {
     "name": "stderr",
     "output_type": "stream",
     "text": [
      "IOPub data rate exceeded.\n",
      "The notebook server will temporarily stop sending output\n",
      "to the client in order to avoid crashing it.\n",
      "To change this limit, set the config variable\n",
      "`--NotebookApp.iopub_data_rate_limit`.\n",
      "\n",
      "Current values:\n",
      "NotebookApp.iopub_data_rate_limit=1000000.0 (bytes/sec)\n",
      "NotebookApp.rate_limit_window=3.0 (secs)\n",
      "\n"
     ]
    },
    {
     "name": "stdout",
     "output_type": "stream",
     "text": [
      "Optimal number of clusters:  5  with silhouette score:  0.31961796\n"
     ]
    },
    {
     "data": {
      "text/plain": "<Figure size 640x480 with 1 Axes>",
      "image/png": "[encoded data removed]"
     },
     "metadata": {},
     "output_type": "display_data"
    }
   ],
   "source": [
    "networkGraph = NetworkGraphs('../datasets/Dune_Eth_transaction.csv', type=\"CRYPTO\")\n"
   ],
   "metadata": {
    "collapsed": false
   }
  },
  {
   "cell_type": "code",
   "execution_count": 3,
   "outputs": [],
   "source": [
    "hmlt = plot_metrics_on_map(customGraphs, metric, 'HMLT')"
   ],
   "metadata": {
    "collapsed": false
   }
  },
  {
   "cell_type": "code",
   "execution_count": null,
   "outputs": [],
   "source": [
    "hmlt.show()"
   ],
   "metadata": {
    "collapsed": false
   }
  },
  {
   "cell_type": "code",
   "execution_count": 10,
   "outputs": [],
   "source": [
    "hmlt.data=(hmlt.data[2], hmlt.data[1], hmlt.data[0])"
   ],
   "metadata": {
    "collapsed": false
   }
  },
  {
   "cell_type": "code",
   "execution_count": 5,
   "outputs": [
    {
     "data": {
      "text/plain": "       pop_est      continent                      name iso_a3  gdp_md_est  \\\n0     889953.0        Oceania                      Fiji    FJI        5496   \n1   58005463.0         Africa                  Tanzania    TZA       63177   \n2     603253.0         Africa                 W. Sahara    ESH         907   \n3   37589262.0  North America                    Canada    CAN     1736425   \n4  328239523.0  North America  United States of America    USA    21433226   \n\n                                            geometry  \n0  MULTIPOLYGON (((180.00000 -16.06713, 180.00000...  \n1  POLYGON ((33.90371 -0.95000, 34.07262 -1.05982...  \n2  POLYGON ((-8.66559 27.65643, -8.66512 27.58948...  \n3  MULTIPOLYGON (((-122.84000 49.00000, -122.9742...  \n4  MULTIPOLYGON (((-122.84000 49.00000, -120.0000...  ",
      "text/html": "<div>\n<style scoped>\n    .dataframe tbody tr th:only-of-type {\n        vertical-align: middle;\n    }\n\n    .dataframe tbody tr th {\n        vertical-align: top;\n    }\n\n    .dataframe thead th {\n        text-align: right;\n    }\n</style>\n<table border=\"1\" class=\"dataframe\">\n  <thead>\n    <tr style=\"text-align: right;\">\n      <th></th>\n      <th>pop_est</th>\n      <th>continent</th>\n      <th>name</th>\n      <th>iso_a3</th>\n      <th>gdp_md_est</th>\n      <th>geometry</th>\n    </tr>\n  </thead>\n  <tbody>\n    <tr>\n      <th>0</th>\n      <td>889953.0</td>\n      <td>Oceania</td>\n      <td>Fiji</td>\n      <td>FJI</td>\n      <td>5496</td>\n      <td>MULTIPOLYGON (((180.00000 -16.06713, 180.00000...</td>\n    </tr>\n    <tr>\n      <th>1</th>\n      <td>58005463.0</td>\n      <td>Africa</td>\n      <td>Tanzania</td>\n      <td>TZA</td>\n      <td>63177</td>\n      <td>POLYGON ((33.90371 -0.95000, 34.07262 -1.05982...</td>\n    </tr>\n    <tr>\n      <th>2</th>\n      <td>603253.0</td>\n      <td>Africa</td>\n      <td>W. Sahara</td>\n      <td>ESH</td>\n      <td>907</td>\n      <td>POLYGON ((-8.66559 27.65643, -8.66512 27.58948...</td>\n    </tr>\n    <tr>\n      <th>3</th>\n      <td>37589262.0</td>\n      <td>North America</td>\n      <td>Canada</td>\n      <td>CAN</td>\n      <td>1736425</td>\n      <td>MULTIPOLYGON (((-122.84000 49.00000, -122.9742...</td>\n    </tr>\n    <tr>\n      <th>4</th>\n      <td>328239523.0</td>\n      <td>North America</td>\n      <td>United States of America</td>\n      <td>USA</td>\n      <td>21433226</td>\n      <td>MULTIPOLYGON (((-122.84000 49.00000, -120.0000...</td>\n    </tr>\n  </tbody>\n</table>\n</div>"
     },
     "metadata": {},
     "output_type": "display_data"
    }
   ],
   "source": [
    "world = gpd.read_file(gpd.datasets.get_path('naturalearth_lowres'))\n",
    "display(world.head())"
   ],
   "metadata": {
    "collapsed": false
   }
  },
  {
   "cell_type": "code",
   "execution_count": 6,
   "outputs": [
    {
     "name": "stdout",
     "output_type": "stream",
     "text": [
      "53.48948 17.79638 134.90248 75.47524 35.64293 105.18886\n"
     ]
    },
    {
     "ename": "NameError",
     "evalue": "name 'world' is not defined",
     "output_type": "error",
     "traceback": [
      "\u001B[0;31m---------------------------------------------------------------------------\u001B[0m",
      "\u001B[0;31mNameError\u001B[0m                                 Traceback (most recent call last)",
      "Cell \u001B[0;32mIn[6], line 12\u001B[0m\n\u001B[1;32m      7\u001B[0m mid_long \u001B[38;5;241m=\u001B[39m customGraphs\u001B[38;5;241m.\u001B[39mmid_long\n\u001B[1;32m      9\u001B[0m \u001B[38;5;28mprint\u001B[39m(max_lat, min_lat, max_long, min_long, mid_lat, mid_long)\n\u001B[0;32m---> 12\u001B[0m fig \u001B[38;5;241m=\u001B[39m px\u001B[38;5;241m.\u001B[39mchoropleth(\u001B[43mworld\u001B[49m,hover_name\u001B[38;5;241m=\u001B[39m\u001B[38;5;124m\"\u001B[39m\u001B[38;5;124mname\u001B[39m\u001B[38;5;124m\"\u001B[39m, locations\u001B[38;5;241m=\u001B[39m\u001B[38;5;124m\"\u001B[39m\u001B[38;5;124miso_a3\u001B[39m\u001B[38;5;124m\"\u001B[39m)\n\u001B[1;32m     13\u001B[0m fig\u001B[38;5;241m.\u001B[39mupdate_geos(\n\u001B[1;32m     14\u001B[0m     lataxis_range\u001B[38;5;241m=\u001B[39m[min_lat,max_lat], lonaxis_range\u001B[38;5;241m=\u001B[39m[min_long, max_long],\n\u001B[1;32m     15\u001B[0m     center\u001B[38;5;241m=\u001B[39m\u001B[38;5;28mdict\u001B[39m(lat\u001B[38;5;241m=\u001B[39mmid_lat, lon\u001B[38;5;241m=\u001B[39mmid_long),\n\u001B[1;32m     16\u001B[0m )\n\u001B[1;32m     17\u001B[0m fig\u001B[38;5;241m.\u001B[39mshow()\n",
      "\u001B[0;31mNameError\u001B[0m: name 'world' is not defined"
     ]
    }
   ],
   "source": [
    "#isolate world by max lat and long and min lat and long\n",
    "max_lat = customGraphs.max_lat\n",
    "min_lat = customGraphs.min_lat\n",
    "max_long = customGraphs.max_long\n",
    "min_long = customGraphs.min_long\n",
    "mid_lat = customGraphs.mid_lat\n",
    "mid_long = customGraphs.mid_long\n",
    "\n",
    "print(max_lat, min_lat, max_long, min_long, mid_lat, mid_long)\n",
    "\n",
    "\n",
    "fig = px.choropleth(world,hover_name=\"name\", locations=\"iso_a3\")\n",
    "fig.update_geos(\n",
    "    lataxis_range=[min_lat,max_lat], lonaxis_range=[min_long, max_long],\n",
    "    center=dict(lat=mid_lat, lon=mid_long),\n",
    ")\n",
    "fig.show()"
   ],
   "metadata": {
    "collapsed": false
   }
  },
  {
   "cell_type": "code",
   "execution_count": 40,
   "outputs": [
    {
     "data": {
      "application/vnd.plotly.v1+json": {
       "data": [
        {
         "autocolorscale": false,
         "colorbar": {
          "title": {
           "text": "Title"
          }
         },
         "colorscale": [
          [
           0.0,
           "#440154"
          ],
          [
           0.1111111111111111,
           "#482878"
          ],
          [
           0.2222222222222222,
           "#3e4989"
          ],
          [
           0.3333333333333333,
           "#31688e"
          ],
          [
           0.4444444444444444,
           "#26828e"
          ],
          [
           0.5555555555555556,
           "#1f9e89"
          ],
          [
           0.6666666666666666,
           "#35b779"
          ],
          [
           0.7777777777777778,
           "#6ece58"
          ],
          [
           0.8888888888888888,
           "#b5de2b"
          ],
          [
           1.0,
           "#fde725"
          ]
         ],
         "locations": [
          "FJI",
          "TZA",
          "ESH",
          "CAN",
          "USA",
          "KAZ",
          "UZB",
          "PNG",
          "IDN",
          "ARG",
          "CHL",
          "COD",
          "SOM",
          "KEN",
          "SDN",
          "TCD",
          "HTI",
          "DOM",
          "RUS",
          "BHS",
          "FLK",
          "NOR",
          "GRL",
          "ATF",
          "TLS",
          "ZAF",
          "LSO",
          "MEX",
          "URY",
          "BRA",
          "BOL",
          "PER",
          "COL",
          "PAN",
          "CRI",
          "NIC",
          "HND",
          "SLV",
          "GTM",
          "BLZ",
          "VEN",
          "GUY",
          "SUR",
          "FRA",
          "ECU",
          "PRI",
          "JAM",
          "CUB",
          "ZWE",
          "BWA",
          "NAM",
          "SEN",
          "MLI",
          "MRT",
          "BEN",
          "NER",
          "NGA",
          "CMR",
          "TGO",
          "GHA",
          "CIV",
          "GIN",
          "GNB",
          "LBR",
          "SLE",
          "BFA",
          "CAF",
          "COG",
          "GAB",
          "GNQ",
          "ZMB",
          "MWI",
          "MOZ",
          "SWZ",
          "AGO",
          "BDI",
          "ISR",
          "LBN",
          "MDG",
          "PSE",
          "GMB",
          "TUN",
          "DZA",
          "JOR",
          "ARE",
          "QAT",
          "KWT",
          "IRQ",
          "OMN",
          "VUT",
          "KHM",
          "THA",
          "LAO",
          "MMR",
          "VNM",
          "PRK",
          "KOR",
          "MNG",
          "IND",
          "BGD",
          "BTN",
          "NPL",
          "PAK",
          "AFG",
          "TJK",
          "KGZ",
          "TKM",
          "IRN",
          "SYR",
          "ARM",
          "SWE",
          "BLR",
          "UKR",
          "POL",
          "AUT",
          "HUN",
          "MDA",
          "ROU",
          "LTU",
          "LVA",
          "EST",
          "DEU",
          "BGR",
          "GRC",
          "TUR",
          "ALB",
          "HRV",
          "CHE",
          "LUX",
          "BEL",
          "NLD",
          "PRT",
          "ESP",
          "IRL",
          "NCL",
          "SLB",
          "NZL",
          "AUS",
          "LKA",
          "CHN",
          "TWN",
          "ITA",
          "DNK",
          "GBR",
          "ISL",
          "AZE",
          "GEO",
          "PHL",
          "MYS",
          "BRN",
          "SVN",
          "FIN",
          "SVK",
          "CZE",
          "ERI",
          "JPN",
          "PRY",
          "YEM",
          "SAU",
          "ATA",
          "CYN",
          "CYP",
          "MAR",
          "EGY",
          "LBY",
          "ETH",
          "DJI",
          "SOL",
          "UGA",
          "RWA",
          "BIH",
          "MKD",
          "SRB",
          "MNE",
          "-99",
          "TTO",
          "SSD"
         ],
         "marker": {
          "line": {
           "color": "white"
          }
         },
         "text": [
          "Fiji",
          "Tanzania",
          "W. Sahara",
          "Canada",
          "United States of America",
          "Kazakhstan",
          "Uzbekistan",
          "Papua New Guinea",
          "Indonesia",
          "Argentina",
          "Chile",
          "Dem. Rep. Congo",
          "Somalia",
          "Kenya",
          "Sudan",
          "Chad",
          "Haiti",
          "Dominican Rep.",
          "Russia",
          "Bahamas",
          "Falkland Is.",
          "Norway",
          "Greenland",
          "Fr. S. Antarctic Lands",
          "Timor-Leste",
          "South Africa",
          "Lesotho",
          "Mexico",
          "Uruguay",
          "Brazil",
          "Bolivia",
          "Peru",
          "Colombia",
          "Panama",
          "Costa Rica",
          "Nicaragua",
          "Honduras",
          "El Salvador",
          "Guatemala",
          "Belize",
          "Venezuela",
          "Guyana",
          "Suriname",
          "France",
          "Ecuador",
          "Puerto Rico",
          "Jamaica",
          "Cuba",
          "Zimbabwe",
          "Botswana",
          "Namibia",
          "Senegal",
          "Mali",
          "Mauritania",
          "Benin",
          "Niger",
          "Nigeria",
          "Cameroon",
          "Togo",
          "Ghana",
          "Côte d'Ivoire",
          "Guinea",
          "Guinea-Bissau",
          "Liberia",
          "Sierra Leone",
          "Burkina Faso",
          "Central African Rep.",
          "Congo",
          "Gabon",
          "Eq. Guinea",
          "Zambia",
          "Malawi",
          "Mozambique",
          "eSwatini",
          "Angola",
          "Burundi",
          "Israel",
          "Lebanon",
          "Madagascar",
          "Palestine",
          "Gambia",
          "Tunisia",
          "Algeria",
          "Jordan",
          "United Arab Emirates",
          "Qatar",
          "Kuwait",
          "Iraq",
          "Oman",
          "Vanuatu",
          "Cambodia",
          "Thailand",
          "Laos",
          "Myanmar",
          "Vietnam",
          "North Korea",
          "South Korea",
          "Mongolia",
          "India",
          "Bangladesh",
          "Bhutan",
          "Nepal",
          "Pakistan",
          "Afghanistan",
          "Tajikistan",
          "Kyrgyzstan",
          "Turkmenistan",
          "Iran",
          "Syria",
          "Armenia",
          "Sweden",
          "Belarus",
          "Ukraine",
          "Poland",
          "Austria",
          "Hungary",
          "Moldova",
          "Romania",
          "Lithuania",
          "Latvia",
          "Estonia",
          "Germany",
          "Bulgaria",
          "Greece",
          "Turkey",
          "Albania",
          "Croatia",
          "Switzerland",
          "Luxembourg",
          "Belgium",
          "Netherlands",
          "Portugal",
          "Spain",
          "Ireland",
          "New Caledonia",
          "Solomon Is.",
          "New Zealand",
          "Australia",
          "Sri Lanka",
          "China",
          "Taiwan",
          "Italy",
          "Denmark",
          "United Kingdom",
          "Iceland",
          "Azerbaijan",
          "Georgia",
          "Philippines",
          "Malaysia",
          "Brunei",
          "Slovenia",
          "Finland",
          "Slovakia",
          "Czechia",
          "Eritrea",
          "Japan",
          "Paraguay",
          "Yemen",
          "Saudi Arabia",
          "Antarctica",
          "N. Cyprus",
          "Cyprus",
          "Morocco",
          "Egypt",
          "Libya",
          "Ethiopia",
          "Djibouti",
          "Somaliland",
          "Uganda",
          "Rwanda",
          "Bosnia and Herz.",
          "North Macedonia",
          "Serbia",
          "Montenegro",
          "Kosovo",
          "Trinidad and Tobago",
          "S. Sudan"
         ],
         "type": "choropleth"
        }
       ],
       "layout": {
        "geo": {
         "center": {
          "lat": 35.64293,
          "lon": 105.18886
         },
         "lataxis": {
          "range": [
           17.79638,
           53.48948
          ]
         },
         "lonaxis": {
          "range": [
           75.47524,
           134.90248
          ]
         },
         "projection": {
          "type": "equirectangular"
         },
         "scope": "world",
         "showcountries": true
        },
        "title": {
         "text": "World Map"
        },
        "template": {
         "data": {
          "histogram2dcontour": [
           {
            "type": "histogram2dcontour",
            "colorbar": {
             "outlinewidth": 0,
             "ticks": ""
            },
            "colorscale": [
             [
              0.0,
              "#0d0887"
             ],
             [
              0.1111111111111111,
              "#46039f"
             ],
             [
              0.2222222222222222,
              "#7201a8"
             ],
             [
              0.3333333333333333,
              "#9c179e"
             ],
             [
              0.4444444444444444,
              "#bd3786"
             ],
             [
              0.5555555555555556,
              "#d8576b"
             ],
             [
              0.6666666666666666,
              "#ed7953"
             ],
             [
              0.7777777777777778,
              "#fb9f3a"
             ],
             [
              0.8888888888888888,
              "#fdca26"
             ],
             [
              1.0,
              "#f0f921"
             ]
            ]
           }
          ],
          "choropleth": [
           {
            "type": "choropleth",
            "colorbar": {
             "outlinewidth": 0,
             "ticks": ""
            }
           }
          ],
          "histogram2d": [
           {
            "type": "histogram2d",
            "colorbar": {
             "outlinewidth": 0,
             "ticks": ""
            },
            "colorscale": [
             [
              0.0,
              "#0d0887"
             ],
             [
              0.1111111111111111,
              "#46039f"
             ],
             [
              0.2222222222222222,
              "#7201a8"
             ],
             [
              0.3333333333333333,
              "#9c179e"
             ],
             [
              0.4444444444444444,
              "#bd3786"
             ],
             [
              0.5555555555555556,
              "#d8576b"
             ],
             [
              0.6666666666666666,
              "#ed7953"
             ],
             [
              0.7777777777777778,
              "#fb9f3a"
             ],
             [
              0.8888888888888888,
              "#fdca26"
             ],
             [
              1.0,
              "#f0f921"
             ]
            ]
           }
          ],
          "heatmap": [
           {
            "type": "heatmap",
            "colorbar": {
             "outlinewidth": 0,
             "ticks": ""
            },
            "colorscale": [
             [
              0.0,
              "#0d0887"
             ],
             [
              0.1111111111111111,
              "#46039f"
             ],
             [
              0.2222222222222222,
              "#7201a8"
             ],
             [
              0.3333333333333333,
              "#9c179e"
             ],
             [
              0.4444444444444444,
              "#bd3786"
             ],
             [
              0.5555555555555556,
              "#d8576b"
             ],
             [
              0.6666666666666666,
              "#ed7953"
             ],
             [
              0.7777777777777778,
              "#fb9f3a"
             ],
             [
              0.8888888888888888,
              "#fdca26"
             ],
             [
              1.0,
              "#f0f921"
             ]
            ]
           }
          ],
          "heatmapgl": [
           {
            "type": "heatmapgl",
            "colorbar": {
             "outlinewidth": 0,
             "ticks": ""
            },
            "colorscale": [
             [
              0.0,
              "#0d0887"
             ],
             [
              0.1111111111111111,
              "#46039f"
             ],
             [
              0.2222222222222222,
              "#7201a8"
             ],
             [
              0.3333333333333333,
              "#9c179e"
             ],
             [
              0.4444444444444444,
              "#bd3786"
             ],
             [
              0.5555555555555556,
              "#d8576b"
             ],
             [
              0.6666666666666666,
              "#ed7953"
             ],
             [
              0.7777777777777778,
              "#fb9f3a"
             ],
             [
              0.8888888888888888,
              "#fdca26"
             ],
             [
              1.0,
              "#f0f921"
             ]
            ]
           }
          ],
          "contourcarpet": [
           {
            "type": "contourcarpet",
            "colorbar": {
             "outlinewidth": 0,
             "ticks": ""
            }
           }
          ],
          "contour": [
           {
            "type": "contour",
            "colorbar": {
             "outlinewidth": 0,
             "ticks": ""
            },
            "colorscale": [
             [
              0.0,
              "#0d0887"
             ],
             [
              0.1111111111111111,
              "#46039f"
             ],
             [
              0.2222222222222222,
              "#7201a8"
             ],
             [
              0.3333333333333333,
              "#9c179e"
             ],
             [
              0.4444444444444444,
              "#bd3786"
             ],
             [
              0.5555555555555556,
              "#d8576b"
             ],
             [
              0.6666666666666666,
              "#ed7953"
             ],
             [
              0.7777777777777778,
              "#fb9f3a"
             ],
             [
              0.8888888888888888,
              "#fdca26"
             ],
             [
              1.0,
              "#f0f921"
             ]
            ]
           }
          ],
          "surface": [
           {
            "type": "surface",
            "colorbar": {
             "outlinewidth": 0,
             "ticks": ""
            },
            "colorscale": [
             [
              0.0,
              "#0d0887"
             ],
             [
              0.1111111111111111,
              "#46039f"
             ],
             [
              0.2222222222222222,
              "#7201a8"
             ],
             [
              0.3333333333333333,
              "#9c179e"
             ],
             [
              0.4444444444444444,
              "#bd3786"
             ],
             [
              0.5555555555555556,
              "#d8576b"
             ],
             [
              0.6666666666666666,
              "#ed7953"
             ],
             [
              0.7777777777777778,
              "#fb9f3a"
             ],
             [
              0.8888888888888888,
              "#fdca26"
             ],
             [
              1.0,
              "#f0f921"
             ]
            ]
           }
          ],
          "mesh3d": [
           {
            "type": "mesh3d",
            "colorbar": {
             "outlinewidth": 0,
             "ticks": ""
            }
           }
          ],
          "scatter": [
           {
            "marker": {
             "line": {
              "color": "#283442"
             }
            },
            "type": "scatter"
           }
          ],
          "parcoords": [
           {
            "type": "parcoords",
            "line": {
             "colorbar": {
              "outlinewidth": 0,
              "ticks": ""
             }
            }
           }
          ],
          "scatterpolargl": [
           {
            "type": "scatterpolargl",
            "marker": {
             "colorbar": {
              "outlinewidth": 0,
              "ticks": ""
             }
            }
           }
          ],
          "bar": [
           {
            "error_x": {
             "color": "#f2f5fa"
            },
            "error_y": {
             "color": "#f2f5fa"
            },
            "marker": {
             "line": {
              "color": "rgb(17,17,17)",
              "width": 0.5
             },
             "pattern": {
              "fillmode": "overlay",
              "size": 10,
              "solidity": 0.2
             }
            },
            "type": "bar"
           }
          ],
          "scattergeo": [
           {
            "type": "scattergeo",
            "marker": {
             "colorbar": {
              "outlinewidth": 0,
              "ticks": ""
             }
            }
           }
          ],
          "scatterpolar": [
           {
            "type": "scatterpolar",
            "marker": {
             "colorbar": {
              "outlinewidth": 0,
              "ticks": ""
             }
            }
           }
          ],
          "histogram": [
           {
            "marker": {
             "pattern": {
              "fillmode": "overlay",
              "size": 10,
              "solidity": 0.2
             }
            },
            "type": "histogram"
           }
          ],
          "scattergl": [
           {
            "marker": {
             "line": {
              "color": "#283442"
             }
            },
            "type": "scattergl"
           }
          ],
          "scatter3d": [
           {
            "type": "scatter3d",
            "line": {
             "colorbar": {
              "outlinewidth": 0,
              "ticks": ""
             }
            },
            "marker": {
             "colorbar": {
              "outlinewidth": 0,
              "ticks": ""
             }
            }
           }
          ],
          "scattermapbox": [
           {
            "type": "scattermapbox",
            "marker": {
             "colorbar": {
              "outlinewidth": 0,
              "ticks": ""
             }
            }
           }
          ],
          "scatterternary": [
           {
            "type": "scatterternary",
            "marker": {
             "colorbar": {
              "outlinewidth": 0,
              "ticks": ""
             }
            }
           }
          ],
          "scattercarpet": [
           {
            "type": "scattercarpet",
            "marker": {
             "colorbar": {
              "outlinewidth": 0,
              "ticks": ""
             }
            }
           }
          ],
          "carpet": [
           {
            "aaxis": {
             "endlinecolor": "#A2B1C6",
             "gridcolor": "#506784",
             "linecolor": "#506784",
             "minorgridcolor": "#506784",
             "startlinecolor": "#A2B1C6"
            },
            "baxis": {
             "endlinecolor": "#A2B1C6",
             "gridcolor": "#506784",
             "linecolor": "#506784",
             "minorgridcolor": "#506784",
             "startlinecolor": "#A2B1C6"
            },
            "type": "carpet"
           }
          ],
          "table": [
           {
            "cells": {
             "fill": {
              "color": "#506784"
             },
             "line": {
              "color": "rgb(17,17,17)"
             }
            },
            "header": {
             "fill": {
              "color": "#2a3f5f"
             },
             "line": {
              "color": "rgb(17,17,17)"
             }
            },
            "type": "table"
           }
          ],
          "barpolar": [
           {
            "marker": {
             "line": {
              "color": "rgb(17,17,17)",
              "width": 0.5
             },
             "pattern": {
              "fillmode": "overlay",
              "size": 10,
              "solidity": 0.2
             }
            },
            "type": "barpolar"
           }
          ],
          "pie": [
           {
            "automargin": true,
            "type": "pie"
           }
          ]
         },
         "layout": {
          "autotypenumbers": "strict",
          "colorway": [
           "#636efa",
           "#EF553B",
           "#00cc96",
           "#ab63fa",
           "#FFA15A",
           "#19d3f3",
           "#FF6692",
           "#B6E880",
           "#FF97FF",
           "#FECB52"
          ],
          "font": {
           "color": "#f2f5fa"
          },
          "hovermode": "closest",
          "hoverlabel": {
           "align": "left"
          },
          "paper_bgcolor": "rgb(17,17,17)",
          "plot_bgcolor": "rgb(17,17,17)",
          "polar": {
           "bgcolor": "rgb(17,17,17)",
           "angularaxis": {
            "gridcolor": "#506784",
            "linecolor": "#506784",
            "ticks": ""
           },
           "radialaxis": {
            "gridcolor": "#506784",
            "linecolor": "#506784",
            "ticks": ""
           }
          },
          "ternary": {
           "bgcolor": "rgb(17,17,17)",
           "aaxis": {
            "gridcolor": "#506784",
            "linecolor": "#506784",
            "ticks": ""
           },
           "baxis": {
            "gridcolor": "#506784",
            "linecolor": "#506784",
            "ticks": ""
           },
           "caxis": {
            "gridcolor": "#506784",
            "linecolor": "#506784",
            "ticks": ""
           }
          },
          "coloraxis": {
           "colorbar": {
            "outlinewidth": 0,
            "ticks": ""
           }
          },
          "colorscale": {
           "sequential": [
            [
             0.0,
             "#0d0887"
            ],
            [
             0.1111111111111111,
             "#46039f"
            ],
            [
             0.2222222222222222,
             "#7201a8"
            ],
            [
             0.3333333333333333,
             "#9c179e"
            ],
            [
             0.4444444444444444,
             "#bd3786"
            ],
            [
             0.5555555555555556,
             "#d8576b"
            ],
            [
             0.6666666666666666,
             "#ed7953"
            ],
            [
             0.7777777777777778,
             "#fb9f3a"
            ],
            [
             0.8888888888888888,
             "#fdca26"
            ],
            [
             1.0,
             "#f0f921"
            ]
           ],
           "sequentialminus": [
            [
             0.0,
             "#0d0887"
            ],
            [
             0.1111111111111111,
             "#46039f"
            ],
            [
             0.2222222222222222,
             "#7201a8"
            ],
            [
             0.3333333333333333,
             "#9c179e"
            ],
            [
             0.4444444444444444,
             "#bd3786"
            ],
            [
             0.5555555555555556,
             "#d8576b"
            ],
            [
             0.6666666666666666,
             "#ed7953"
            ],
            [
             0.7777777777777778,
             "#fb9f3a"
            ],
            [
             0.8888888888888888,
             "#fdca26"
            ],
            [
             1.0,
             "#f0f921"
            ]
           ],
           "diverging": [
            [
             0,
             "#8e0152"
            ],
            [
             0.1,
             "#c51b7d"
            ],
            [
             0.2,
             "#de77ae"
            ],
            [
             0.3,
             "#f1b6da"
            ],
            [
             0.4,
             "#fde0ef"
            ],
            [
             0.5,
             "#f7f7f7"
            ],
            [
             0.6,
             "#e6f5d0"
            ],
            [
             0.7,
             "#b8e186"
            ],
            [
             0.8,
             "#7fbc41"
            ],
            [
             0.9,
             "#4d9221"
            ],
            [
             1,
             "#276419"
            ]
           ]
          },
          "xaxis": {
           "gridcolor": "#283442",
           "linecolor": "#506784",
           "ticks": "",
           "title": {
            "standoff": 15
           },
           "zerolinecolor": "#283442",
           "automargin": true,
           "zerolinewidth": 2
          },
          "yaxis": {
           "gridcolor": "#283442",
           "linecolor": "#506784",
           "ticks": "",
           "title": {
            "standoff": 15
           },
           "zerolinecolor": "#283442",
           "automargin": true,
           "zerolinewidth": 2
          },
          "scene": {
           "xaxis": {
            "backgroundcolor": "rgb(17,17,17)",
            "gridcolor": "#506784",
            "linecolor": "#506784",
            "showbackground": true,
            "ticks": "",
            "zerolinecolor": "#C8D4E3",
            "gridwidth": 2
           },
           "yaxis": {
            "backgroundcolor": "rgb(17,17,17)",
            "gridcolor": "#506784",
            "linecolor": "#506784",
            "showbackground": true,
            "ticks": "",
            "zerolinecolor": "#C8D4E3",
            "gridwidth": 2
           },
           "zaxis": {
            "backgroundcolor": "rgb(17,17,17)",
            "gridcolor": "#506784",
            "linecolor": "#506784",
            "showbackground": true,
            "ticks": "",
            "zerolinecolor": "#C8D4E3",
            "gridwidth": 2
           }
          },
          "shapedefaults": {
           "line": {
            "color": "#f2f5fa"
           }
          },
          "annotationdefaults": {
           "arrowcolor": "#f2f5fa",
           "arrowhead": 0,
           "arrowwidth": 1
          },
          "geo": {
           "bgcolor": "rgb(17,17,17)",
           "landcolor": "rgb(17,17,17)",
           "subunitcolor": "#506784",
           "showland": true,
           "showlakes": true,
           "lakecolor": "rgb(17,17,17)"
          },
          "title": {
           "x": 0.05
          },
          "updatemenudefaults": {
           "bgcolor": "#506784",
           "borderwidth": 0
          },
          "sliderdefaults": {
           "bgcolor": "#C8D4E3",
           "borderwidth": 1,
           "bordercolor": "rgb(17,17,17)",
           "tickwidth": 0
          },
          "mapbox": {
           "style": "dark"
          }
         }
        }
       },
       "config": {
        "plotlyServerURL": "https://plot.ly"
       }
      },
      "text/html": "<div>                            <div id=\"837fff26-00f1-40b0-a313-e786dad5e0ed\" class=\"plotly-graph-div\" style=\"height:525px; width:100%;\"></div>            <script type=\"text/javascript\">                require([\"plotly\"], function(Plotly) {                    window.PLOTLYENV=window.PLOTLYENV || {};                                    if (document.getElementById(\"837fff26-00f1-40b0-a313-e786dad5e0ed\")) {                    Plotly.newPlot(                        \"837fff26-00f1-40b0-a313-e786dad5e0ed\",                        [{\"autocolorscale\":false,\"colorbar\":{\"title\":{\"text\":\"Title\"}},\"colorscale\":[[0.0,\"#440154\"],[0.1111111111111111,\"#482878\"],[0.2222222222222222,\"#3e4989\"],[0.3333333333333333,\"#31688e\"],[0.4444444444444444,\"#26828e\"],[0.5555555555555556,\"#1f9e89\"],[0.6666666666666666,\"#35b779\"],[0.7777777777777778,\"#6ece58\"],[0.8888888888888888,\"#b5de2b\"],[1.0,\"#fde725\"]],\"locations\":[\"FJI\",\"TZA\",\"ESH\",\"CAN\",\"USA\",\"KAZ\",\"UZB\",\"PNG\",\"IDN\",\"ARG\",\"CHL\",\"COD\",\"SOM\",\"KEN\",\"SDN\",\"TCD\",\"HTI\",\"DOM\",\"RUS\",\"BHS\",\"FLK\",\"NOR\",\"GRL\",\"ATF\",\"TLS\",\"ZAF\",\"LSO\",\"MEX\",\"URY\",\"BRA\",\"BOL\",\"PER\",\"COL\",\"PAN\",\"CRI\",\"NIC\",\"HND\",\"SLV\",\"GTM\",\"BLZ\",\"VEN\",\"GUY\",\"SUR\",\"FRA\",\"ECU\",\"PRI\",\"JAM\",\"CUB\",\"ZWE\",\"BWA\",\"NAM\",\"SEN\",\"MLI\",\"MRT\",\"BEN\",\"NER\",\"NGA\",\"CMR\",\"TGO\",\"GHA\",\"CIV\",\"GIN\",\"GNB\",\"LBR\",\"SLE\",\"BFA\",\"CAF\",\"COG\",\"GAB\",\"GNQ\",\"ZMB\",\"MWI\",\"MOZ\",\"SWZ\",\"AGO\",\"BDI\",\"ISR\",\"LBN\",\"MDG\",\"PSE\",\"GMB\",\"TUN\",\"DZA\",\"JOR\",\"ARE\",\"QAT\",\"KWT\",\"IRQ\",\"OMN\",\"VUT\",\"KHM\",\"THA\",\"LAO\",\"MMR\",\"VNM\",\"PRK\",\"KOR\",\"MNG\",\"IND\",\"BGD\",\"BTN\",\"NPL\",\"PAK\",\"AFG\",\"TJK\",\"KGZ\",\"TKM\",\"IRN\",\"SYR\",\"ARM\",\"SWE\",\"BLR\",\"UKR\",\"POL\",\"AUT\",\"HUN\",\"MDA\",\"ROU\",\"LTU\",\"LVA\",\"EST\",\"DEU\",\"BGR\",\"GRC\",\"TUR\",\"ALB\",\"HRV\",\"CHE\",\"LUX\",\"BEL\",\"NLD\",\"PRT\",\"ESP\",\"IRL\",\"NCL\",\"SLB\",\"NZL\",\"AUS\",\"LKA\",\"CHN\",\"TWN\",\"ITA\",\"DNK\",\"GBR\",\"ISL\",\"AZE\",\"GEO\",\"PHL\",\"MYS\",\"BRN\",\"SVN\",\"FIN\",\"SVK\",\"CZE\",\"ERI\",\"JPN\",\"PRY\",\"YEM\",\"SAU\",\"ATA\",\"CYN\",\"CYP\",\"MAR\",\"EGY\",\"LBY\",\"ETH\",\"DJI\",\"SOL\",\"UGA\",\"RWA\",\"BIH\",\"MKD\",\"SRB\",\"MNE\",\"-99\",\"TTO\",\"SSD\"],\"marker\":{\"line\":{\"color\":\"white\"}},\"text\":[\"Fiji\",\"Tanzania\",\"W. Sahara\",\"Canada\",\"United States of America\",\"Kazakhstan\",\"Uzbekistan\",\"Papua New Guinea\",\"Indonesia\",\"Argentina\",\"Chile\",\"Dem. Rep. Congo\",\"Somalia\",\"Kenya\",\"Sudan\",\"Chad\",\"Haiti\",\"Dominican Rep.\",\"Russia\",\"Bahamas\",\"Falkland Is.\",\"Norway\",\"Greenland\",\"Fr. S. Antarctic Lands\",\"Timor-Leste\",\"South Africa\",\"Lesotho\",\"Mexico\",\"Uruguay\",\"Brazil\",\"Bolivia\",\"Peru\",\"Colombia\",\"Panama\",\"Costa Rica\",\"Nicaragua\",\"Honduras\",\"El Salvador\",\"Guatemala\",\"Belize\",\"Venezuela\",\"Guyana\",\"Suriname\",\"France\",\"Ecuador\",\"Puerto Rico\",\"Jamaica\",\"Cuba\",\"Zimbabwe\",\"Botswana\",\"Namibia\",\"Senegal\",\"Mali\",\"Mauritania\",\"Benin\",\"Niger\",\"Nigeria\",\"Cameroon\",\"Togo\",\"Ghana\",\"C\\u00f4te d'Ivoire\",\"Guinea\",\"Guinea-Bissau\",\"Liberia\",\"Sierra Leone\",\"Burkina Faso\",\"Central African Rep.\",\"Congo\",\"Gabon\",\"Eq. Guinea\",\"Zambia\",\"Malawi\",\"Mozambique\",\"eSwatini\",\"Angola\",\"Burundi\",\"Israel\",\"Lebanon\",\"Madagascar\",\"Palestine\",\"Gambia\",\"Tunisia\",\"Algeria\",\"Jordan\",\"United Arab Emirates\",\"Qatar\",\"Kuwait\",\"Iraq\",\"Oman\",\"Vanuatu\",\"Cambodia\",\"Thailand\",\"Laos\",\"Myanmar\",\"Vietnam\",\"North Korea\",\"South Korea\",\"Mongolia\",\"India\",\"Bangladesh\",\"Bhutan\",\"Nepal\",\"Pakistan\",\"Afghanistan\",\"Tajikistan\",\"Kyrgyzstan\",\"Turkmenistan\",\"Iran\",\"Syria\",\"Armenia\",\"Sweden\",\"Belarus\",\"Ukraine\",\"Poland\",\"Austria\",\"Hungary\",\"Moldova\",\"Romania\",\"Lithuania\",\"Latvia\",\"Estonia\",\"Germany\",\"Bulgaria\",\"Greece\",\"Turkey\",\"Albania\",\"Croatia\",\"Switzerland\",\"Luxembourg\",\"Belgium\",\"Netherlands\",\"Portugal\",\"Spain\",\"Ireland\",\"New Caledonia\",\"Solomon Is.\",\"New Zealand\",\"Australia\",\"Sri Lanka\",\"China\",\"Taiwan\",\"Italy\",\"Denmark\",\"United Kingdom\",\"Iceland\",\"Azerbaijan\",\"Georgia\",\"Philippines\",\"Malaysia\",\"Brunei\",\"Slovenia\",\"Finland\",\"Slovakia\",\"Czechia\",\"Eritrea\",\"Japan\",\"Paraguay\",\"Yemen\",\"Saudi Arabia\",\"Antarctica\",\"N. Cyprus\",\"Cyprus\",\"Morocco\",\"Egypt\",\"Libya\",\"Ethiopia\",\"Djibouti\",\"Somaliland\",\"Uganda\",\"Rwanda\",\"Bosnia and Herz.\",\"North Macedonia\",\"Serbia\",\"Montenegro\",\"Kosovo\",\"Trinidad and Tobago\",\"S. Sudan\"],\"type\":\"choropleth\"}],                        {\"geo\":{\"center\":{\"lat\":35.64293,\"lon\":105.18886},\"lataxis\":{\"range\":[17.79638,53.48948]},\"lonaxis\":{\"range\":[75.47524,134.90248]},\"projection\":{\"type\":\"equirectangular\"},\"scope\":\"world\",\"showcountries\":true},\"title\":{\"text\":\"World Map\"},\"template\":{\"data\":{\"histogram2dcontour\":[{\"type\":\"histogram2dcontour\",\"colorbar\":{\"outlinewidth\":0,\"ticks\":\"\"},\"colorscale\":[[0.0,\"#0d0887\"],[0.1111111111111111,\"#46039f\"],[0.2222222222222222,\"#7201a8\"],[0.3333333333333333,\"#9c179e\"],[0.4444444444444444,\"#bd3786\"],[0.5555555555555556,\"#d8576b\"],[0.6666666666666666,\"#ed7953\"],[0.7777777777777778,\"#fb9f3a\"],[0.8888888888888888,\"#fdca26\"],[1.0,\"#f0f921\"]]}],\"choropleth\":[{\"type\":\"choropleth\",\"colorbar\":{\"outlinewidth\":0,\"ticks\":\"\"}}],\"histogram2d\":[{\"type\":\"histogram2d\",\"colorbar\":{\"outlinewidth\":0,\"ticks\":\"\"},\"colorscale\":[[0.0,\"#0d0887\"],[0.1111111111111111,\"#46039f\"],[0.2222222222222222,\"#7201a8\"],[0.3333333333333333,\"#9c179e\"],[0.4444444444444444,\"#bd3786\"],[0.5555555555555556,\"#d8576b\"],[0.6666666666666666,\"#ed7953\"],[0.7777777777777778,\"#fb9f3a\"],[0.8888888888888888,\"#fdca26\"],[1.0,\"#f0f921\"]]}],\"heatmap\":[{\"type\":\"heatmap\",\"colorbar\":{\"outlinewidth\":0,\"ticks\":\"\"},\"colorscale\":[[0.0,\"#0d0887\"],[0.1111111111111111,\"#46039f\"],[0.2222222222222222,\"#7201a8\"],[0.3333333333333333,\"#9c179e\"],[0.4444444444444444,\"#bd3786\"],[0.5555555555555556,\"#d8576b\"],[0.6666666666666666,\"#ed7953\"],[0.7777777777777778,\"#fb9f3a\"],[0.8888888888888888,\"#fdca26\"],[1.0,\"#f0f921\"]]}],\"heatmapgl\":[{\"type\":\"heatmapgl\",\"colorbar\":{\"outlinewidth\":0,\"ticks\":\"\"},\"colorscale\":[[0.0,\"#0d0887\"],[0.1111111111111111,\"#46039f\"],[0.2222222222222222,\"#7201a8\"],[0.3333333333333333,\"#9c179e\"],[0.4444444444444444,\"#bd3786\"],[0.5555555555555556,\"#d8576b\"],[0.6666666666666666,\"#ed7953\"],[0.7777777777777778,\"#fb9f3a\"],[0.8888888888888888,\"#fdca26\"],[1.0,\"#f0f921\"]]}],\"contourcarpet\":[{\"type\":\"contourcarpet\",\"colorbar\":{\"outlinewidth\":0,\"ticks\":\"\"}}],\"contour\":[{\"type\":\"contour\",\"colorbar\":{\"outlinewidth\":0,\"ticks\":\"\"},\"colorscale\":[[0.0,\"#0d0887\"],[0.1111111111111111,\"#46039f\"],[0.2222222222222222,\"#7201a8\"],[0.3333333333333333,\"#9c179e\"],[0.4444444444444444,\"#bd3786\"],[0.5555555555555556,\"#d8576b\"],[0.6666666666666666,\"#ed7953\"],[0.7777777777777778,\"#fb9f3a\"],[0.8888888888888888,\"#fdca26\"],[1.0,\"#f0f921\"]]}],\"surface\":[{\"type\":\"surface\",\"colorbar\":{\"outlinewidth\":0,\"ticks\":\"\"},\"colorscale\":[[0.0,\"#0d0887\"],[0.1111111111111111,\"#46039f\"],[0.2222222222222222,\"#7201a8\"],[0.3333333333333333,\"#9c179e\"],[0.4444444444444444,\"#bd3786\"],[0.5555555555555556,\"#d8576b\"],[0.6666666666666666,\"#ed7953\"],[0.7777777777777778,\"#fb9f3a\"],[0.8888888888888888,\"#fdca26\"],[1.0,\"#f0f921\"]]}],\"mesh3d\":[{\"type\":\"mesh3d\",\"colorbar\":{\"outlinewidth\":0,\"ticks\":\"\"}}],\"scatter\":[{\"marker\":{\"line\":{\"color\":\"#283442\"}},\"type\":\"scatter\"}],\"parcoords\":[{\"type\":\"parcoords\",\"line\":{\"colorbar\":{\"outlinewidth\":0,\"ticks\":\"\"}}}],\"scatterpolargl\":[{\"type\":\"scatterpolargl\",\"marker\":{\"colorbar\":{\"outlinewidth\":0,\"ticks\":\"\"}}}],\"bar\":[{\"error_x\":{\"color\":\"#f2f5fa\"},\"error_y\":{\"color\":\"#f2f5fa\"},\"marker\":{\"line\":{\"color\":\"rgb(17,17,17)\",\"width\":0.5},\"pattern\":{\"fillmode\":\"overlay\",\"size\":10,\"solidity\":0.2}},\"type\":\"bar\"}],\"scattergeo\":[{\"type\":\"scattergeo\",\"marker\":{\"colorbar\":{\"outlinewidth\":0,\"ticks\":\"\"}}}],\"scatterpolar\":[{\"type\":\"scatterpolar\",\"marker\":{\"colorbar\":{\"outlinewidth\":0,\"ticks\":\"\"}}}],\"histogram\":[{\"marker\":{\"pattern\":{\"fillmode\":\"overlay\",\"size\":10,\"solidity\":0.2}},\"type\":\"histogram\"}],\"scattergl\":[{\"marker\":{\"line\":{\"color\":\"#283442\"}},\"type\":\"scattergl\"}],\"scatter3d\":[{\"type\":\"scatter3d\",\"line\":{\"colorbar\":{\"outlinewidth\":0,\"ticks\":\"\"}},\"marker\":{\"colorbar\":{\"outlinewidth\":0,\"ticks\":\"\"}}}],\"scattermapbox\":[{\"type\":\"scattermapbox\",\"marker\":{\"colorbar\":{\"outlinewidth\":0,\"ticks\":\"\"}}}],\"scatterternary\":[{\"type\":\"scatterternary\",\"marker\":{\"colorbar\":{\"outlinewidth\":0,\"ticks\":\"\"}}}],\"scattercarpet\":[{\"type\":\"scattercarpet\",\"marker\":{\"colorbar\":{\"outlinewidth\":0,\"ticks\":\"\"}}}],\"carpet\":[{\"aaxis\":{\"endlinecolor\":\"#A2B1C6\",\"gridcolor\":\"#506784\",\"linecolor\":\"#506784\",\"minorgridcolor\":\"#506784\",\"startlinecolor\":\"#A2B1C6\"},\"baxis\":{\"endlinecolor\":\"#A2B1C6\",\"gridcolor\":\"#506784\",\"linecolor\":\"#506784\",\"minorgridcolor\":\"#506784\",\"startlinecolor\":\"#A2B1C6\"},\"type\":\"carpet\"}],\"table\":[{\"cells\":{\"fill\":{\"color\":\"#506784\"},\"line\":{\"color\":\"rgb(17,17,17)\"}},\"header\":{\"fill\":{\"color\":\"#2a3f5f\"},\"line\":{\"color\":\"rgb(17,17,17)\"}},\"type\":\"table\"}],\"barpolar\":[{\"marker\":{\"line\":{\"color\":\"rgb(17,17,17)\",\"width\":0.5},\"pattern\":{\"fillmode\":\"overlay\",\"size\":10,\"solidity\":0.2}},\"type\":\"barpolar\"}],\"pie\":[{\"automargin\":true,\"type\":\"pie\"}]},\"layout\":{\"autotypenumbers\":\"strict\",\"colorway\":[\"#636efa\",\"#EF553B\",\"#00cc96\",\"#ab63fa\",\"#FFA15A\",\"#19d3f3\",\"#FF6692\",\"#B6E880\",\"#FF97FF\",\"#FECB52\"],\"font\":{\"color\":\"#f2f5fa\"},\"hovermode\":\"closest\",\"hoverlabel\":{\"align\":\"left\"},\"paper_bgcolor\":\"rgb(17,17,17)\",\"plot_bgcolor\":\"rgb(17,17,17)\",\"polar\":{\"bgcolor\":\"rgb(17,17,17)\",\"angularaxis\":{\"gridcolor\":\"#506784\",\"linecolor\":\"#506784\",\"ticks\":\"\"},\"radialaxis\":{\"gridcolor\":\"#506784\",\"linecolor\":\"#506784\",\"ticks\":\"\"}},\"ternary\":{\"bgcolor\":\"rgb(17,17,17)\",\"aaxis\":{\"gridcolor\":\"#506784\",\"linecolor\":\"#506784\",\"ticks\":\"\"},\"baxis\":{\"gridcolor\":\"#506784\",\"linecolor\":\"#506784\",\"ticks\":\"\"},\"caxis\":{\"gridcolor\":\"#506784\",\"linecolor\":\"#506784\",\"ticks\":\"\"}},\"coloraxis\":{\"colorbar\":{\"outlinewidth\":0,\"ticks\":\"\"}},\"colorscale\":{\"sequential\":[[0.0,\"#0d0887\"],[0.1111111111111111,\"#46039f\"],[0.2222222222222222,\"#7201a8\"],[0.3333333333333333,\"#9c179e\"],[0.4444444444444444,\"#bd3786\"],[0.5555555555555556,\"#d8576b\"],[0.6666666666666666,\"#ed7953\"],[0.7777777777777778,\"#fb9f3a\"],[0.8888888888888888,\"#fdca26\"],[1.0,\"#f0f921\"]],\"sequentialminus\":[[0.0,\"#0d0887\"],[0.1111111111111111,\"#46039f\"],[0.2222222222222222,\"#7201a8\"],[0.3333333333333333,\"#9c179e\"],[0.4444444444444444,\"#bd3786\"],[0.5555555555555556,\"#d8576b\"],[0.6666666666666666,\"#ed7953\"],[0.7777777777777778,\"#fb9f3a\"],[0.8888888888888888,\"#fdca26\"],[1.0,\"#f0f921\"]],\"diverging\":[[0,\"#8e0152\"],[0.1,\"#c51b7d\"],[0.2,\"#de77ae\"],[0.3,\"#f1b6da\"],[0.4,\"#fde0ef\"],[0.5,\"#f7f7f7\"],[0.6,\"#e6f5d0\"],[0.7,\"#b8e186\"],[0.8,\"#7fbc41\"],[0.9,\"#4d9221\"],[1,\"#276419\"]]},\"xaxis\":{\"gridcolor\":\"#283442\",\"linecolor\":\"#506784\",\"ticks\":\"\",\"title\":{\"standoff\":15},\"zerolinecolor\":\"#283442\",\"automargin\":true,\"zerolinewidth\":2},\"yaxis\":{\"gridcolor\":\"#283442\",\"linecolor\":\"#506784\",\"ticks\":\"\",\"title\":{\"standoff\":15},\"zerolinecolor\":\"#283442\",\"automargin\":true,\"zerolinewidth\":2},\"scene\":{\"xaxis\":{\"backgroundcolor\":\"rgb(17,17,17)\",\"gridcolor\":\"#506784\",\"linecolor\":\"#506784\",\"showbackground\":true,\"ticks\":\"\",\"zerolinecolor\":\"#C8D4E3\",\"gridwidth\":2},\"yaxis\":{\"backgroundcolor\":\"rgb(17,17,17)\",\"gridcolor\":\"#506784\",\"linecolor\":\"#506784\",\"showbackground\":true,\"ticks\":\"\",\"zerolinecolor\":\"#C8D4E3\",\"gridwidth\":2},\"zaxis\":{\"backgroundcolor\":\"rgb(17,17,17)\",\"gridcolor\":\"#506784\",\"linecolor\":\"#506784\",\"showbackground\":true,\"ticks\":\"\",\"zerolinecolor\":\"#C8D4E3\",\"gridwidth\":2}},\"shapedefaults\":{\"line\":{\"color\":\"#f2f5fa\"}},\"annotationdefaults\":{\"arrowcolor\":\"#f2f5fa\",\"arrowhead\":0,\"arrowwidth\":1},\"geo\":{\"bgcolor\":\"rgb(17,17,17)\",\"landcolor\":\"rgb(17,17,17)\",\"subunitcolor\":\"#506784\",\"showland\":true,\"showlakes\":true,\"lakecolor\":\"rgb(17,17,17)\"},\"title\":{\"x\":0.05},\"updatemenudefaults\":{\"bgcolor\":\"#506784\",\"borderwidth\":0},\"sliderdefaults\":{\"bgcolor\":\"#C8D4E3\",\"borderwidth\":1,\"bordercolor\":\"rgb(17,17,17)\",\"tickwidth\":0},\"mapbox\":{\"style\":\"dark\"}}}},                        {\"responsive\": true}                    ).then(function(){\n                            \nvar gd = document.getElementById('837fff26-00f1-40b0-a313-e786dad5e0ed');\nvar x = new MutationObserver(function (mutations, observer) {{\n        var display = window.getComputedStyle(gd).display;\n        if (!display || display === 'none') {{\n            console.log([gd, 'removed!']);\n            Plotly.purge(gd);\n            observer.disconnect();\n        }}\n}});\n\n// Listen for the removal of the full notebook cells\nvar notebookContainer = gd.closest('#notebook-container');\nif (notebookContainer) {{\n    x.observe(notebookContainer, {childList: true});\n}}\n\n// Listen for the clearing of the current output cell\nvar outputEl = gd.closest('.output');\nif (outputEl) {{\n    x.observe(outputEl, {childList: true});\n}}\n\n                        })                };                });            </script>        </div>"
     },
     "metadata": {},
     "output_type": "display_data"
    }
   ],
   "source": [
    "import plotly.graph_objects as go\n",
    "\n",
    "# isolate world by max lat and long and min lat and long\n",
    "max_lat = customGraphs.max_lat\n",
    "min_lat = customGraphs.min_lat\n",
    "max_long = customGraphs.max_long\n",
    "min_long = customGraphs.min_long\n",
    "mid_lat = customGraphs.mid_lat\n",
    "mid_long = customGraphs.mid_long\n",
    "\n",
    "go_fig=go.Choropleth(\n",
    "    locations=world['iso_a3'],\n",
    "    text=world['name'],\n",
    "    colorscale='Viridis',\n",
    "    autocolorscale=False,\n",
    "    marker_line_color='white',\n",
    "    colorbar_title='Title',\n",
    ")\n",
    "\n",
    "layout = go.Layout(\n",
    "    title_text='World Map',\n",
    "    geo=dict(\n",
    "        scope='world',\n",
    "        projection=go.layout.geo.Projection(type='equirectangular'),\n",
    "        showcountries=True,\n",
    "        lataxis_range=[min_lat, max_lat],\n",
    "        lonaxis_range=[min_long, max_long],\n",
    "        center=dict(lat=mid_lat, lon=mid_long),\n",
    "\n",
    "    ),\n",
    ")\n",
    "\n",
    "\"\"\"\n",
    "showland=True,\n",
    "        landcolor='rgb(243, 243, 243)',\n",
    "        subunitcolor='rgb(217, 217, 217)',\n",
    "        countrycolor='rgb(217, 217, 217)',\n",
    "        showlakes=True,\n",
    "        lakecolor='rgb(255, 255, 255)',\n",
    "        showsubunits=True,\n",
    "        showcountries=True,\n",
    "        resolution=50,\n",
    "\"\"\"\n",
    "\n",
    "fig = go.Figure(data=go_fig, layout=layout)\n",
    "\n",
    "fig.show()\n"
   ],
   "metadata": {
    "collapsed": false
   }
  },
  {
   "cell_type": "code",
   "execution_count": 7,
   "outputs": [],
   "source": [
    "G = customGraphs.Graph\n",
    "\n",
    "pos = customGraphs.pos['map']\n",
    "\n",
    "node_trace = go.Scattergeo(lon=[], lat=[], text=[], mode='markers', hoverinfo='text',\n",
    "                        marker=dict(showscale=True, color=['red'], size=3,\n",
    "                                    colorbar=dict(thickness=10, title='Node Connections', xanchor='left',\n",
    "                                                  titleside='right'), line=dict(width=2, color='#FF0000')))\n",
    "i=0\n",
    "for node in G.nodes():\n",
    "    x, y = pos[node]\n",
    "    node_trace['lon'] += tuple([x])\n",
    "    node_trace['lat'] += tuple([y])\n",
    "\n",
    "layout = go.Layout(\n",
    "    titlefont=dict(size=16, color='White'),\n",
    "    showlegend=False,\n",
    "    hovermode='closest',\n",
    "    annotations=[\n",
    "        dict(\n",
    "            text=\"Alpha Team - 2023\",\n",
    "            showarrow=False,\n",
    "            xref=\"paper\", yref=\"paper\",\n",
    "            x=0.005, y=-0.002,\n",
    "            font=dict(color='black')\n",
    "        )\n",
    "    ],\n",
    "    geo=dict(\n",
    "        scope='world',\n",
    "        lataxis_range=[min_lat, max_lat],\n",
    "        lonaxis_range=[min_long, max_long],\n",
    "        center=dict(lat=mid_lat, lon=mid_long),\n",
    "\n",
    "    ),\n",
    "    xaxis=dict(showgrid=False, zeroline=False, showticklabels=False),\n",
    "    yaxis=dict(showgrid=False, zeroline=False, showticklabels=False),\n",
    "    plot_bgcolor='white',\n",
    "    height=1000\n",
    ")\n",
    "# plot the figure\n",
    "fig = go.Figure(data=[node_trace],\n",
    "                layout=layout)\n",
    "# export to html\n",
    "filename = f'metrics_map_directed.html'\n",
    "fig.write_html(filename)"
   ],
   "metadata": {
    "collapsed": false
   }
  },
  {
   "cell_type": "code",
   "execution_count": 6,
   "outputs": [],
   "source": [
    "max_lat = customGraphs.max_lat\n",
    "min_lat = customGraphs.min_lat\n",
    "max_long = customGraphs.max_long\n",
    "min_long = customGraphs.min_long\n",
    "mid_lat = customGraphs.mid_lat\n",
    "mid_long = customGraphs.mid_long"
   ],
   "metadata": {
    "collapsed": false
   }
  },
  {
   "cell_type": "code",
   "execution_count": 34,
   "outputs": [],
   "source": [],
   "metadata": {
    "collapsed": false
   }
  }
 ],
 "metadata": {
  "kernelspec": {
   "display_name": "Python 3 (ipykernel)",
   "language": "python",
   "name": "python3"
  },
  "language_info": {
   "codemirror_mode": {
    "name": "ipython",
    "version": 3
   },
   "file_extension": ".py",
   "mimetype": "text/x-python",
   "name": "python",
   "nbconvert_exporter": "python",
   "pygments_lexer": "ipython3",
   "version": "3.11.2"
  }
 },
 "nbformat": 4,
 "nbformat_minor": 1
}
